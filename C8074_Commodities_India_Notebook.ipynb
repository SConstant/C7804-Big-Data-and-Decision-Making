{
 "cells": [
  {
   "cell_type": "markdown",
   "id": "b266ce30-3a60-487d-be42-85d11a8b7716",
   "metadata": {
    "execution": {
     "iopub.execute_input": "2022-04-21T11:06:30.462651Z",
     "iopub.status.busy": "2022-04-21T11:06:30.462317Z",
     "iopub.status.idle": "2022-04-21T11:06:32.228025Z",
     "shell.execute_reply": "2022-04-21T11:06:32.227350Z",
     "shell.execute_reply.started": "2022-04-21T11:06:30.462576Z"
    },
    "tags": []
   },
   "source": [
    "# C8074 Commodities in India - Where is Rice cheaper in India? "
   ]
  },
  {
   "cell_type": "code",
   "execution_count": null,
   "id": "579f3e6e-0e6a-4fef-bde6-3e87715db706",
   "metadata": {},
   "outputs": [],
   "source": [
    "# Importing Packages\n",
    "\n",
    "import cudf\n",
    "import cupy as cp\n",
    "\n",
    "import pandas as pd\n",
    "\n",
    "import numpy as np\n",
    "\n",
    "import cugraph as cg"
   ]
  },
  {
   "cell_type": "markdown",
   "id": "4618ccef-3ca6-4d62-a60b-6bddf44bb109",
   "metadata": {},
   "source": [
    "## Introduction: \n",
    "\n",
    "Github: GitHub - [SConstant/C7804-Big-Data-and-Decision-Making](https://github.com/SConstant/C7804-Big-Data-and-Decision-Making)\n",
    "Kaggle: [Food Prices In India | Kaggle ](https://www.kaggle.com/datasets/arshadali12/food-prices-in-india)\n",
    "\n",
    "The Food prices in India dataset is taken as a subset of the data provided by the World Food Programme Price Database. \n",
    "The World Food Programme Price Database contains information around food as a commodity for 98 countries and 3000 markets. Though data collection dates back from 1992, much of the data is from 2003 or thereafter. This is due to countries choosing to submit data in later years. It is updated weekly however displays mostly monthly data.\n",
    "This particular dataset is concerned specifically with the food commodities in India. A table of the commodities is listed below, and these are a price ranging from 0.056 USD to 88.7 USD with a mean of 1.5 USD. Of the commodities Rice was the most frequent sale. \n",
    "The focus of this assignment is to see how the prices of rice differed in the Markets of different regions, and volumes of sales. There was also interest in what the application of a deep learning technique would look like on the entire dataset. \n",
    "\n",
    "---\n"
   ]
  },
  {
   "cell_type": "markdown",
   "id": "464e410c-2955-4f15-afc8-99655049f60b",
   "metadata": {},
   "source": [
    "## Methods\n",
    "\n",
    "Primarily Saturn Galaxy was used for the access to the NVIDIA GPU cluster via Jupyter server, with this decision was taken due to the user friendliness of access to a reasonably universal Jupyter notebook. The environment grants access to a tesla T4 GPU (Graphics Processing Unit), containing 320 Turing tensor cores (NVIDIA 2019). This lending itself well to Big data problems and exploration as the increased performance allows much less the time taken in the computation of data and execution of programming commands and functions with an natural expectation and subsequent organic growth towards uses in machine and deep learning training and modelling.  \n",
    "\n",
    "Due to the limitation of 30 hours GPU, and 3 hours Dask Cluster access, much of the data wrangling and some of the EDA was carried out in Google Colab. This notebook is in the Github here [click me](https://github.com/SConstant/C7804-Big-Data-and-Decision-Making/blob/main/Data_EDA.ipynb).The techniques used for the data analysis include DBSCAN and K-Nearest Neighbours. \n",
    "\n",
    "Within google colab, with the CPU Pandas was used to explore the data as part of EDA (Exploratory Data Analysis) with a look at the counts of various columns, and the means, standard deviations, min and max values as well as the quartiles for USD. Histograms were also used to explore the shape of the data, with USD_Price (value in dollars), Date and Market being of particular interest. \n",
    "\n",
    "The decision was taken to use the price of commodities in dollars as this acts as a unifying and so universal currency. The data was skewed heavily, as expected for all three columns. As mentioned in the introduction there was more data collection in later years and this would have an impact on the frequency of values in all other columns. As USD_Price was heavily skewed, a box plot was chosen to further explore, which showed early signs of clustering towards a higher frequency of low prices with many outliers in terms of market fluctuation. \n",
    "\n",
    "Following the EDA and Data Wrangling, the Jupyter server was used within the Saturn Cloud environment. The indian_commodities_geo_date.csv was called via github and parsed as both a pandas dataframe and CuDF dataframe. The reason for this being that some simple dataframe interrogations were simpler or possible within Pandas and it was assumed that the data would remain the same between the two types of dataframe in terms of indexing. CuDF is a Python GPU DataFrame library (built on the Apache Arrow columnar memory format) for loading, joining, aggregating, filtering, and otherwise manipulating data (NVIDA 2019). \n",
    "\n",
    "A small amount of exploration was carried out in the CuDF dataframe expediated by the previous EDA. The data types were changed for float 64 bit to float 32 in order to be compatible with the functionality of the CuML (Compute Unified Machine Learning) package. This was called into the notebook to facilitate the deep learning techniques described below. \n",
    "\n",
    "DBSCAN (Density-based spatial clustering of applications with noise) was chosen as a non-parametric technique and unsupervised learning. The algorithm is used to find associations and structures in data or patterns which can then be used to predict trends. CuML’s DBSCAN expects an array-like object or cuDF DataFrame, and constructs an adjacency graph to compute the distances between close neighbours (docs.rapids.ai, n.d.). The particular application here was to try and ascertain clusters where the most rice was sold. One of the requirements of DBscan within CuML is parsing float32 numerical or integer data and in the case of Market location this was given as a categorical object. As such a the geocoding of the Market data was required and was carried out using the GPU available via google. Initially the Google Geocoding API was explored though superior there was concern around the potential fiscal burden so the Open streetmap API was selected instead. The code is within the notebook Open.ipynb saved in the Github. It is possible to use CudF alongside geopandas however while much of the functionality is synonymous there are some gaps between CuDF and Pandas. Compatibility was a concern and it was felt more efficient to geocode through pandas. Following the addition of Latitude and Longitude, the dataframe was saved as a CSV, downloaded and reuploaded to Github. \n",
    "After some research into maps, it was decided to convert the Latitude and Longitude data into Easting and Northing for a more accurate and globally recognised Transverse Mercator projection. The code to create easting and Northing coordinates was taken verbatim from the Jupyter notebook 2-02_population_viz.ipynb. \n",
    "\n",
    "Following a DBSCAN instance was created, and a new CuDF dataframe object by way of subsetting to include rows with rice only. The rice sales were then clustered using the DBSCAN instance on the Transverse Mercator values Northing and Easting. These values were then put into a new column, which allowed the number of clustered to be identified. KNN (K-Nearest neighbours) was selected to try and identify which Markets and dates were likely to have lower prices specifically in the staple rice. Rice was selected as this was the commodities with the most sales, subsequently most data as well as interest.\n",
    "\n",
    "A KNN instance was created, with the K value, 5 was chosen as a default, Following this, the Markets column was fitted with using the knn.fit method. Following this knn.neighbours was used to cluster the markets and dates with USD_Price.  As the K value selected was 5, 5 locations would be returned. \n",
    "It was then possible to explore individual datapoints, a price in dollars was selected via index (initially index 10 to try out the code) and assigned a new object, which using the iloc function was use to cross reference the markets. \n",
    "\n",
    "A decision was taken to look at the clustering around the lower prices, the lower quartile had a USD value of 0.33 or lower and yielded several thousand results. The lowest 0.01% of the Prices was chosen and returned with the index data. The lowest USD value 0.1405 was explored.\n"
   ]
  },
  {
   "cell_type": "code",
   "execution_count": null,
   "id": "f01172d3-4382-403e-a1d9-2d6cb71a9f20",
   "metadata": {
    "tags": []
   },
   "outputs": [],
   "source": [
    "# CUDA Machine Learning and Visualisation specific imports\n",
    "\n",
    "import cuml\n",
    "\n",
    "import cuxfilter as cxf"
   ]
  },
  {
   "cell_type": "code",
   "execution_count": null,
   "id": "acc4228f-6d93-4bbf-88a7-1dd8b63355a6",
   "metadata": {
    "tags": []
   },
   "outputs": [],
   "source": [
    "# Loading data from github\n",
    "\n",
    "url = \"https://raw.githubusercontent.com/SConstant/C7804-Big-Data-and-Decision-Making/main/indian_commodities_geo.csv\"\n",
    "\n",
    "# Reading the csv\n",
    "\n",
    "df = pd.read_csv(url, encoding=\"ISO-8859-1\")"
   ]
  },
  {
   "cell_type": "code",
   "execution_count": null,
   "id": "e16a17e7-07b8-4825-9d62-37ae94ae72f4",
   "metadata": {
    "tags": []
   },
   "outputs": [],
   "source": [
    "gdf = cudf.read_csv(url, encoding=\"ISO-8859-1\")"
   ]
  },
  {
   "cell_type": "code",
   "execution_count": null,
   "id": "c28ed22b-ec40-4515-b502-84d7b5f1c708",
   "metadata": {
    "tags": []
   },
   "outputs": [],
   "source": [
    "# Exploring the Head of the data\n",
    "\n",
    "gdf.head"
   ]
  },
  {
   "cell_type": "code",
   "execution_count": null,
   "id": "4c14092d-0b0f-4023-9fa0-8af34bb9512c",
   "metadata": {
    "tags": []
   },
   "outputs": [],
   "source": [
    "gdf.shape"
   ]
  },
  {
   "cell_type": "code",
   "execution_count": null,
   "id": "29912dcc-de70-4a66-8e4a-6a22ceff5f89",
   "metadata": {
    "tags": []
   },
   "outputs": [],
   "source": [
    "# Looking at the data types\n",
    "\n",
    "gdf.dtypes"
   ]
  },
  {
   "cell_type": "code",
   "execution_count": null,
   "id": "1100a792-a870-4b68-ac05-d6efa287ea18",
   "metadata": {
    "tags": []
   },
   "outputs": [],
   "source": [
    "# Changing float 64 datatypes to float 32\n",
    "\n",
    "gdf['Price'] = gdf['Price'].astype('float32')\n",
    "gdf['USD_Price'] = gdf['USD_Price'].astype('float32')\n",
    "gdf['Lat'] = gdf['Lat'].astype('float32')\n",
    "gdf['Long'] = gdf['Long'].astype('float32')"
   ]
  },
  {
   "cell_type": "code",
   "execution_count": null,
   "id": "62009a95-3f61-4af7-851c-4688c34567f4",
   "metadata": {
    "tags": []
   },
   "outputs": [],
   "source": [
    "gdf['Date'] = gdf['Date'].astype('float32')"
   ]
  },
  {
   "cell_type": "code",
   "execution_count": null,
   "id": "78257585-6b37-4439-87f3-2addbbf40f6f",
   "metadata": {
    "tags": []
   },
   "outputs": [],
   "source": [
    "gdf['Commodity'].value_counts()"
   ]
  },
  {
   "cell_type": "code",
   "execution_count": null,
   "id": "e9f147b2-ab1d-4e4f-93c0-f9d945b03569",
   "metadata": {
    "tags": []
   },
   "outputs": [],
   "source": [
    "gdf['Category'].value_counts()"
   ]
  },
  {
   "cell_type": "code",
   "execution_count": null,
   "id": "20a4868e-9050-498e-8f82-dd4d635316cb",
   "metadata": {
    "tags": []
   },
   "outputs": [],
   "source": [
    "gdf['Market'].value_counts()"
   ]
  },
  {
   "cell_type": "code",
   "execution_count": null,
   "id": "f54f0594-bc2f-4ee4-bbb0-c78ceb3f5dee",
   "metadata": {
    "tags": []
   },
   "outputs": [],
   "source": [
    "gdf['Date'].value_counts()"
   ]
  },
  {
   "cell_type": "code",
   "execution_count": null,
   "id": "caf7c57b-4060-47f4-b51f-d45bb74f31e6",
   "metadata": {},
   "outputs": [],
   "source": [
    "# The Latitude and Longitude data was sourced using an API for Open streetmap, and conducted using Google Colaboratory for the access to the free GPU\n",
    "# Once completed, the dataframe was written to csv, and saved to the github, then opened in this notebook in the code above\n",
    "# The Code for this is in the following notebook: "
   ]
  },
  {
   "cell_type": "code",
   "execution_count": null,
   "id": "3174e5a7-7b43-4a5a-8b5c-5c0e01390d25",
   "metadata": {
    "tags": []
   },
   "outputs": [],
   "source": [
    "# https://www.ordnancesurvey.co.uk/docs/support/guide-coordinate-systems-great-britain.pdf\n",
    "# Transverse Mercator projection: https://towardsdatascience.com/how-to-handle-map-projections-properly-in-python-bcbff78895c4\n",
    "\n",
    "def latlong2osgbgrid_cupy(lat, long, input_degrees=True):\n",
    "    '''\n",
    "    Converts latitude and longitude (ellipsoidal) coordinates into northing and easting (grid) coordinates, using a Transverse Mercator projection.\n",
    "    \n",
    "    Inputs:\n",
    "    lat: latitude coordinate (north)\n",
    "    long: longitude coordinate (east)\n",
    "    input_degrees: if True (default), interprets the coordinates as degrees; otherwise, interprets coordinates as radians\n",
    "    \n",
    "    Output:\n",
    "    (northing, easting)\n",
    "    '''\n",
    "    \n",
    "    if input_degrees:\n",
    "        lat = lat * cp.pi/180\n",
    "        long = long * cp.pi/180\n",
    "\n",
    "    a = 6377563.396\n",
    "    b = 6356256.909\n",
    "    e2 = (a**2 - b**2) / a**2\n",
    "\n",
    "    N0 = -100000                 # northing of true origin\n",
    "    E0 = 400000                  # easting of true origin\n",
    "    F0 = .9996012717             # scale factor on central meridian\n",
    "    phi0 = 49 * cp.pi / 180      # latitude of true origin\n",
    "    lambda0 = -2 * cp.pi / 180   # longitude of true origin and central meridian\n",
    "    \n",
    "    sinlat = cp.sin(lat)\n",
    "    coslat = cp.cos(lat)\n",
    "    tanlat = cp.tan(lat)\n",
    "    \n",
    "    latdiff = lat-phi0\n",
    "    longdiff = long-lambda0\n",
    "\n",
    "    n = (a-b) / (a+b)\n",
    "    nu = a * F0 * (1 - e2 * sinlat ** 2) ** -.5\n",
    "    rho = a * F0 * (1 - e2) * (1 - e2 * sinlat ** 2) ** -1.5\n",
    "    eta2 = nu / rho - 1\n",
    "    M = b * F0 * ((1 + n + 5/4 * (n**2 + n**3)) * latdiff - \n",
    "                  (3*(n+n**2) + 21/8 * n**3) * cp.sin(latdiff) * cp.cos(lat+phi0) +\n",
    "                  15/8 * (n**2 + n**3) * cp.sin(2*(latdiff)) * cp.cos(2*(lat+phi0)) - \n",
    "                  35/24 * n**3 * cp.sin(3*(latdiff)) * cp.cos(3*(lat+phi0)))\n",
    "    I = M + N0\n",
    "    II = nu/2 * sinlat * coslat\n",
    "    III = nu/24 * sinlat * coslat ** 3 * (5 - tanlat ** 2 + 9 * eta2)\n",
    "    IIIA = nu/720 * sinlat * coslat ** 5 * (61-58 * tanlat**2 + tanlat**4)\n",
    "    IV = nu * coslat\n",
    "    V = nu / 6 * coslat**3 * (nu/rho - cp.tan(lat)**2)\n",
    "    VI = nu / 120 * coslat ** 5 * (5 - 18 * tanlat**2 + tanlat**4 + 14 * eta2 - 58 * tanlat**2 * eta2)\n",
    "\n",
    "    northing = I + II * longdiff**2 + III * longdiff**4 + IIIA * longdiff**6\n",
    "    easting = E0 + IV * longdiff + V * longdiff**3 + VI * longdiff**5\n",
    "\n",
    "    return(northing, easting)"
   ]
  },
  {
   "cell_type": "code",
   "execution_count": null,
   "id": "c094551e-fd30-49d9-b357-b6b2dfa8993a",
   "metadata": {
    "tags": []
   },
   "outputs": [],
   "source": [
    "# Converting the Lat and Long Columns of gdf data frame into arrays\n",
    "\n",
    "cupy_lat = cp.asarray(gdf['Lat'])\n",
    "cupy_long = cp.asarray(gdf['Long'])"
   ]
  },
  {
   "cell_type": "code",
   "execution_count": null,
   "id": "ec3b86c9-3c16-4d17-b0fb-5825f66431c6",
   "metadata": {
    "tags": []
   },
   "outputs": [],
   "source": [
    "# Creating Northing and Eastings data from Lat and Long to align with Transverse Mercator projection, and selecting the data type as float 32\n",
    "\n",
    "n_cupy_array, e_cupy_array = latlong2osgbgrid_cupy(cupy_lat, cupy_long)\n",
    "gdf['northing'] = cudf.Series(n_cupy_array).astype('float32')\n",
    "gdf['easting'] = cudf.Series(e_cupy_array).astype('float32')"
   ]
  },
  {
   "cell_type": "code",
   "execution_count": null,
   "id": "44f7413d-2608-4bc6-a2bd-3f703bb9f290",
   "metadata": {
    "tags": []
   },
   "outputs": [],
   "source": [
    "print(gdf.dtypes)"
   ]
  },
  {
   "cell_type": "code",
   "execution_count": null,
   "id": "6d32ee08-26da-4cf8-9afb-78af3cf89547",
   "metadata": {
    "tags": []
   },
   "outputs": [],
   "source": [
    "gdf.head()"
   ]
  },
  {
   "cell_type": "markdown",
   "id": "6f4ddf8b-5b67-426e-b28b-dd4823fbcc99",
   "metadata": {
    "execution": {
     "iopub.execute_input": "2022-04-20T19:21:56.910201Z",
     "iopub.status.busy": "2022-04-20T19:21:56.909891Z",
     "iopub.status.idle": "2022-04-20T19:21:56.915951Z",
     "shell.execute_reply": "2022-04-20T19:21:56.915261Z",
     "shell.execute_reply.started": "2022-04-20T19:21:56.910175Z"
    },
    "tags": []
   },
   "source": [
    "### DBSCAN\n",
    "\n",
    "To see the clusters of where the most Rice is Sold\n",
    "Unsupervised learning technique being used here to identify the clusters geographically of Rice Sales"
   ]
  },
  {
   "cell_type": "code",
   "execution_count": null,
   "id": "6f7c5bea-3b32-4330-bd1c-23f48e740962",
   "metadata": {
    "tags": []
   },
   "outputs": [],
   "source": [
    "# Creation of DSCAN instance\n",
    "dbscan = cuml.DBSCAN(eps=5000)"
   ]
  },
  {
   "cell_type": "code",
   "execution_count": null,
   "id": "3ba681fc-6591-454c-b3ac-adbe099e9c5b",
   "metadata": {
    "tags": []
   },
   "outputs": [],
   "source": [
    "# Creating a dataframe with only Rice\n",
    "\n",
    "rice_gdf = gdf[gdf['Commodity'] == 'Rice'].reset_index()"
   ]
  },
  {
   "cell_type": "code",
   "execution_count": null,
   "id": "59e02d21-5f25-4b71-89b5-0953fb88760a",
   "metadata": {
    "tags": []
   },
   "outputs": [],
   "source": [
    "rice_gdf.head"
   ]
  },
  {
   "cell_type": "code",
   "execution_count": null,
   "id": "2bdbd132-8ff6-49dd-b4b7-40c40c62b7c4",
   "metadata": {
    "tags": []
   },
   "outputs": [],
   "source": [
    "# Clustering Rice sales via the DBSCAN instance on the Transverse Mercator values Northing and Easting and then putting these values into a new column. \n",
    "\n",
    "rice_gdf['cluster'] = dbscan.fit_predict(rice_gdf[['northing', 'easting']])"
   ]
  },
  {
   "cell_type": "code",
   "execution_count": null,
   "id": "73a21245-6b3c-432e-bdf8-a31d69f53a64",
   "metadata": {
    "tags": []
   },
   "outputs": [],
   "source": [
    "# Number of clusters identified\n",
    "\n",
    "rice_gdf['cluster'].nunique()"
   ]
  },
  {
   "cell_type": "code",
   "execution_count": null,
   "id": "0ee70354-9beb-4bd1-84b1-54e3b613ee52",
   "metadata": {
    "tags": []
   },
   "outputs": [],
   "source": [
    "# Visualising the clusters\n",
    "\n",
    "# Attaching the rice dataframe to CuXfilter\n",
    "\n",
    "cxf_data = cxf.DataFrame.from_dataframe(rice_gdf)"
   ]
  },
  {
   "cell_type": "code",
   "execution_count": null,
   "id": "fed2f18b-7899-420f-9045-d45dfee3a0a7",
   "metadata": {
    "tags": []
   },
   "outputs": [],
   "source": [
    "# Creating a visualisation\n",
    "\n",
    "chart_width = 600\n",
    "scatter_chart = cxf.charts.datashader.scatter(x='easting', y='northing', \n",
    "                                              width=chart_width, \n",
    "                                              height=int((gdf['northing'].max() - gdf['northing'].min()) / \n",
    "                                                         (gdf['easting'].max() - gdf['easting'].min()) *\n",
    "                                                          chart_width))\n",
    "\n",
    "cluster_widget = cxf.charts.panel_widgets.multi_select('cluster')"
   ]
  },
  {
   "cell_type": "code",
   "execution_count": null,
   "id": "d0c58856-6759-4ea1-9683-e127693025c5",
   "metadata": {
    "tags": []
   },
   "outputs": [],
   "source": [
    "# Dashboard\n",
    "\n",
    "dash = cxf_data.dashboard(charts=[scatter_chart],sidebar=[cluster_widget], theme=cxf.themes.dark, data_size_widget=True)"
   ]
  },
  {
   "cell_type": "code",
   "execution_count": null,
   "id": "914ad8d6-43da-4a67-84fa-2995adac85a5",
   "metadata": {
    "tags": []
   },
   "outputs": [],
   "source": [
    "# Making the Interactive Scatter chart\n",
    "\n",
    "scatter_chart.view()"
   ]
  },
  {
   "cell_type": "code",
   "execution_count": null,
   "id": "48748321-49cb-4d22-bf34-150c6801ac21",
   "metadata": {
    "tags": []
   },
   "outputs": [],
   "source": [
    "# Data Visualisation of Commodity sales \n",
    "\n",
    "# Factorising to convert a string column into an integer column, while mapping the new integers to old strings.\n",
    "\n",
    "gdf['Market'], county_names = gdf['Market'].factorize()\n"
   ]
  },
  {
   "cell_type": "code",
   "execution_count": null,
   "id": "7cb11f38-a69e-468b-a4b7-01dcf7e23748",
   "metadata": {
    "tags": []
   },
   "outputs": [],
   "source": [
    "my_url ='http://j-knitk-c7084-data-lab-666823ad3bda4c55bef6749866ebe22d.community.saturnenterprise.io'\n",
    "dash.show(my_url, port=8789)"
   ]
  },
  {
   "cell_type": "code",
   "execution_count": null,
   "id": "778a0dd0-a61b-44b2-ba59-e1fd97d0a140",
   "metadata": {
    "tags": []
   },
   "outputs": [],
   "source": [
    "rice_gdf.head"
   ]
  },
  {
   "cell_type": "code",
   "execution_count": null,
   "id": "8bc9a2ce-b2a8-4646-b5fe-5b78875048f2",
   "metadata": {
    "tags": []
   },
   "outputs": [],
   "source": [
    "# Making a new column to satisfy binary requirement of Logistic regression\n",
    "# Converting to pandas for dataframe.apply function\n",
    "\n",
    "rice_gdf.to_pandas()"
   ]
  },
  {
   "cell_type": "code",
   "execution_count": null,
   "id": "dc1436ba-e9f6-4f12-ad50-3c4b2ad616a6",
   "metadata": {},
   "outputs": [],
   "source": [
    "# Making a column from the pandas dataframe\n",
    "\n",
    "def conditions(s):\n",
    "    if (rice_gdf['USD_Price'] > 1.497168): \n",
    "        return 1\n",
    "    else:\n",
    "        return 0\n"
   ]
  },
  {
   "cell_type": "code",
   "execution_count": null,
   "id": "8edfc964-7b0d-4af4-8064-41b2b9c09715",
   "metadata": {},
   "outputs": [],
   "source": [
    "rice_gdf['Mean </>'] = rice_gdf.apply(conditions, axis=1)"
   ]
  },
  {
   "cell_type": "code",
   "execution_count": null,
   "id": "3b9f76e0-3986-44ab-8477-da0b72bf102d",
   "metadata": {
    "tags": []
   },
   "outputs": [],
   "source": [
    "print(rice_gdf[\"Market\"])"
   ]
  },
  {
   "cell_type": "code",
   "execution_count": null,
   "id": "989d4e12-9862-412e-8940-089e0eed3e26",
   "metadata": {
    "tags": []
   },
   "outputs": [],
   "source": [
    "rice_gdf.head"
   ]
  },
  {
   "cell_type": "code",
   "execution_count": null,
   "id": "4f31e139-802b-47cf-ae68-229afd3d71a4",
   "metadata": {
    "tags": []
   },
   "outputs": [],
   "source": [
    "type(lr.intercept_)"
   ]
  },
  {
   "cell_type": "markdown",
   "id": "ae0432ea-7905-4a36-855c-105c7ec704ec",
   "metadata": {},
   "source": [
    "### KNN to find the dates where the USD sale price of rice was the least\n"
   ]
  },
  {
   "cell_type": "code",
   "execution_count": null,
   "id": "4177a226-3ba3-4ddc-a89e-270d24df5d8d",
   "metadata": {
    "tags": []
   },
   "outputs": [],
   "source": [
    "# Loading two data frames \n",
    "# One for USD_Price and location data\n",
    "# One for Markets and Location data\n",
    "\n",
    "USDgdf = rice_gdf\n"
   ]
  },
  {
   "cell_type": "code",
   "execution_count": null,
   "id": "8d4f381d-7b70-45a2-b26e-00e9faed9cc3",
   "metadata": {
    "tags": []
   },
   "outputs": [],
   "source": [
    "mgdf = rice_gdf\n"
   ]
  },
  {
   "cell_type": "code",
   "execution_count": null,
   "id": "a8d31d6a-362d-410a-a488-6100cdc3e9a3",
   "metadata": {
    "tags": []
   },
   "outputs": [],
   "source": [
    "mgdf.head"
   ]
  },
  {
   "cell_type": "code",
   "execution_count": null,
   "id": "c1ede52f-b163-4016-ab86-ff92802ee4a8",
   "metadata": {
    "tags": []
   },
   "outputs": [],
   "source": [
    "# Creating KNN instance\n",
    "\n",
    "knn = cuml.NearestNeighbors(n_neighbors=5)"
   ]
  },
  {
   "cell_type": "code",
   "execution_count": null,
   "id": "702edcb6-9d45-4a25-8a94-54836e1a3b2f",
   "metadata": {
    "tags": []
   },
   "outputs": [],
   "source": [
    "# Fitting Markets\n",
    "\n",
    "m_locs = mgdf[['easting', 'northing']]\n",
    "knn.fit(m_locs)"
   ]
  },
  {
   "cell_type": "code",
   "execution_count": null,
   "id": "ecca31d1-0331-4e36-bda7-cbdf02e714b6",
   "metadata": {
    "tags": []
   },
   "outputs": [],
   "source": [
    "# Prices to each Market\n",
    "\n",
    "Price_M, indices = knn.kneighbors(USDgdf[['easting', 'northing']], 5) "
   ]
  },
  {
   "cell_type": "code",
   "execution_count": null,
   "id": "674b3165-99e5-4c7b-9991-364459a14b04",
   "metadata": {
    "tags": []
   },
   "outputs": [],
   "source": [
    "# Selecting Market\n",
    "\n",
    "SELECTED_RESULT = 10\n",
    "print('Price in USD:\\n', USDgdf.loc[SELECTED_RESULT, ['easting', 'northing']], sep='')"
   ]
  },
  {
   "cell_type": "code",
   "execution_count": null,
   "id": "685ed539-b81f-490f-92d2-7c8df5a08c76",
   "metadata": {
    "tags": []
   },
   "outputs": [],
   "source": [
    "# Viewing the index for the 5 markets with prices closest to that at index 10 \n",
    "\n",
    "nearest_Markets = indices.iloc[SELECTED_RESULT, 0:5]\n",
    "print('Market:\\n', nearest_Markets, sep='')"
   ]
  },
  {
   "cell_type": "code",
   "execution_count": null,
   "id": "a7cf06d7-f8b6-4dca-a7cf-c093232d333f",
   "metadata": {
    "tags": []
   },
   "outputs": [],
   "source": [
    "USDgdf.loc[[10]]"
   ]
  },
  {
   "cell_type": "code",
   "execution_count": null,
   "id": "67f97fea-9410-42f2-b71c-8f04d8819c3c",
   "metadata": {
    "tags": []
   },
   "outputs": [],
   "source": [
    "print('USD price in Market coordinates:\\n', mgdf.loc[nearest_Markets, ['easting', 'northing']], sep='')"
   ]
  },
  {
   "cell_type": "code",
   "execution_count": null,
   "id": "9f035fde-aa73-4fe7-b51f-f7137ee35e6a",
   "metadata": {
    "tags": []
   },
   "outputs": [],
   "source": [
    "# Looking at the max, min and quartiles \n",
    "\n",
    "dUSDgdf = USDgdf[\"USD_Price\"].describe()\n",
    "print(dUSDgdf)"
   ]
  },
  {
   "cell_type": "code",
   "execution_count": null,
   "id": "f5143f44-c345-48ae-93c9-fff141220131",
   "metadata": {
    "tags": []
   },
   "outputs": [],
   "source": [
    "# Extracting Minimum value of USD_Price, so the cheapest Rice\n",
    "# Switching to pandas dataframe due to the functionality from the  'Get Started' sheet not working https://images.nvidia.com/aem-dam/Solutions/ai-data-science/rapids-kit/accelerated-data-science-print-getting-started-cheat-sheets.pdf\n",
    "\n",
    "rice_df = df[df['Commodity'] == 'Rice'].reset_index()\n"
   ]
  },
  {
   "cell_type": "code",
   "execution_count": null,
   "id": "280e8c14-8316-4077-a1cf-02408b1a6f6b",
   "metadata": {
    "tags": []
   },
   "outputs": [],
   "source": [
    "# Identifying the index of the lowest price\n",
    "\n",
    "USD_lowest = rice_df[rice_df['USD_Price'].le(rice_df['USD_Price'].quantile(0.00001))]"
   ]
  },
  {
   "cell_type": "code",
   "execution_count": null,
   "id": "2abfaa28-c400-4251-8b13-2e4c1b66cdea",
   "metadata": {
    "tags": []
   },
   "outputs": [],
   "source": [
    "USD_lowest.head"
   ]
  },
  {
   "cell_type": "code",
   "execution_count": null,
   "id": "bf8afc11-bdbb-4f9a-9dae-4fdc2cf9b6aa",
   "metadata": {
    "tags": []
   },
   "outputs": [],
   "source": [
    "# Identifying the index of the lowest 0.001% of prices\n",
    "\n",
    "USD_Low = rice_df[rice_df['USD_Price'].le(rice_df['USD_Price'].quantile(0.0001))]"
   ]
  },
  {
   "cell_type": "code",
   "execution_count": null,
   "id": "73386b13-11b7-4337-a8ad-a0e2af2a4ea0",
   "metadata": {
    "tags": []
   },
   "outputs": [],
   "source": [
    "USD_Low.head"
   ]
  },
  {
   "cell_type": "code",
   "execution_count": null,
   "id": "00a08590-48e2-4038-af65-0e6a8a29361f",
   "metadata": {
    "tags": []
   },
   "outputs": [],
   "source": [
    "# The index can then be used to identify the Markets where and when Rice was available at lower prices\n",
    "\n",
    "# Selecting Market\n",
    "\n",
    "SELECTED_RESULT = 5053\n",
    "print('Price in USD:\\n', USDgdf.loc[SELECTED_RESULT, ['easting', 'northing']], sep='')"
   ]
  },
  {
   "cell_type": "code",
   "execution_count": null,
   "id": "ddd1b17c-bd6c-4031-a88e-33f420862144",
   "metadata": {
    "tags": []
   },
   "outputs": [],
   "source": [
    "nearest_Markets = indices.iloc[SELECTED_RESULT, 0:5]\n",
    "print('Market:\\n', nearest_Markets, sep='')"
   ]
  },
  {
   "cell_type": "code",
   "execution_count": null,
   "id": "d5bcb7df-332e-4c73-957a-9075ed5e8dd8",
   "metadata": {
    "tags": []
   },
   "outputs": [],
   "source": [
    "USDgdf.loc[[5053]]"
   ]
  },
  {
   "cell_type": "code",
   "execution_count": null,
   "id": "b7366e40-b034-49b1-a900-88382de641d7",
   "metadata": {
    "tags": []
   },
   "outputs": [],
   "source": [
    "USDgdf.loc[[5277]]"
   ]
  },
  {
   "cell_type": "code",
   "execution_count": null,
   "id": "e99d2c5d-e060-4b21-b6f2-1fee440230c7",
   "metadata": {
    "tags": []
   },
   "outputs": [],
   "source": [
    "USDgdf.loc[[5279]]"
   ]
  },
  {
   "cell_type": "code",
   "execution_count": null,
   "id": "69a09ccf-5438-44a9-947b-5077eafd5395",
   "metadata": {
    "tags": []
   },
   "outputs": [],
   "source": [
    "USDgdf.loc[[5278]]"
   ]
  },
  {
   "cell_type": "code",
   "execution_count": null,
   "id": "a3c5a186-3d13-44f0-9a84-43298740992d",
   "metadata": {
    "tags": []
   },
   "outputs": [],
   "source": [
    "USDgdf.loc[[5276]]"
   ]
  },
  {
   "cell_type": "code",
   "execution_count": null,
   "id": "85f16339-b386-4818-95d1-cd43adba69c8",
   "metadata": {
    "tags": []
   },
   "outputs": [],
   "source": [
    "USDgdf.loc[[5275]]"
   ]
  },
  {
   "cell_type": "markdown",
   "id": "beaa7ec6-a2cd-497d-a2a0-0eff1d38213e",
   "metadata": {},
   "source": [
    "## Results\n",
    "\n",
    "DBSCAN, the number of clusters which were identified for rice only was 150, though not included for clarity when DBSCAN was run for the entire dataset, 160 clustered were identified. There is also a data visualisation which displays the scatter across the Northing and Easting of the clusters of which the code is below. This data visualisation would be improved by the addition of a country outline to better contextualise the areas of cluster. \n",
    "Please see the link and run the code snippet below for the graph\n"
   ]
  },
  {
   "cell_type": "code",
   "execution_count": null,
   "id": "1a459b74-490b-4ec3-a250-4a9344b0e8c1",
   "metadata": {},
   "outputs": [],
   "source": [
    "my_url ='http://j-knitk-c7084-data-lab-666823ad3bda4c55bef6749866ebe22d.community.saturnenterprise.io'\n",
    "\n",
    "dash.show(my_url, port=8789)"
   ]
  },
  {
   "cell_type": "markdown",
   "id": "10e37a28-c89e-42d7-abd7-92611a15e606",
   "metadata": {},
   "source": [
    "For KNN the clusters returned the data rows at indices 5279, 5278, 5277, 5276 and 5275, and these rows were then called via iloc.  \n",
    "\n",
    "Please see the table below for the Indices location, and values for date, Market location and Price in USD\n",
    "\n",
    "##### Cluster\n",
    "\n",
    "|Index      |Market       |Date            |USD Price      |\n",
    "|-----------|-------------|----------------|---------------|\n",
    "|5277       |Aizawl       |15/11/2020      |0.4032         |\n",
    "|5279       |Aizawl       |16/03/2021      |0.5832         |\n",
    "|5278       |Aizawl       |16/02/2021      |0.5832         |\n",
    "|5276       |Aizawl       |16/10/2020      |0.4083         |\n",
    "|5275       |Aizawl       |16/12/2019      |0.4761         |\n",
    "\n",
    "##### Selected Row\n",
    "\n",
    "|Index      |Market       |Date            |USD Price      |\n",
    "|-----------|-------------|----------------|---------------|\n",
    "|5053       |Aizawl       |16/11/1996      |0.1405         |\n",
    "\n",
    "\n",
    "---"
   ]
  },
  {
   "cell_type": "markdown",
   "id": "008cd4fd-fe5c-4db9-a174-94557832a01c",
   "metadata": {},
   "source": [
    "## Discussion: \n",
    "\n",
    "##### DBSCAN \n",
    "\n",
    "Previously, DBSCAN had been used on the entire dataset and this was removed for clarity. It’s interesting but unsurprising that rice only yielded 10 more clusters that the entire dataset (15 compare to 160 in the entire dataset) This could be due to the commodity having the greatest number of sales. It would be interesting to identify clusters on commodities with fewer instances such as chickpeas for comparison however if there is only a small amount of data it’s possible that the technique DBSCAN may not be suitable. K-means clustering may prove better for the subsets of smaller datasets however there would need to be a literature review on the fidelity and compatibility in terms of any inference should both of these techniques be used. \n",
    "\n",
    "##### KNN \n",
    "\n",
    "While the K value 5 was chosen by default, as computationally safe, relatively inexpensive and a purpose in identifying 5 locations however this could have been improved through exploring the error rate or rate of accuracy and choosing a K value with the minimum error rate or maximal accuracy rate. Deep learning can be used here again to train and fit the model in order to identify an optimal K-value. Upon exploring the cluster itself it was interesting see that the dates vary from the original selected row 5053 being in the year 1996, with the years of the cluster ranging from 2019 to 2021. It would be interesting to explore more parameters for KNN, to see if this is consistent or potentially an error in the method. The price in USD also varied further with the range being from 0.40 to 0.58 dollars, which is further away than expected but interesting that these were defined as the nearest neighbours. The one consistency in the data is that of the Market value being Aizawl, which given its presence is inferred from the above as the market that experiences the lowest prices in the dataset. However to be able to infer this with more confidence there would need to be more exploration of the parameters for KNN, and possibly an attempt at a different analysis clustering technique such as K-Means performed on each of the indices included in the cluster to see how different the results yielded would be. The Dask K-means functionality would also be interesting to use to see how different speeds could be achieved in this data analysis but also to do further analysis and comparison in terms of the different locations of markets and Prices. Finally it would be interesting to look at a more predictive approach to this data using XGboost as part of the cuda toolkit to explore the probabilities of different Prices of rice appearing in different locations. \n"
   ]
  },
  {
   "cell_type": "markdown",
   "id": "ed10ed41-d74f-46ef-b904-9646a2db8394",
   "metadata": {},
   "source": [
    "##### References\n",
    "\n",
    "1.\tGoogle Developers. 2022. Overview  |  Geocoding API  |  Google Developers. [ONLINE] Available at: https://developers.google.com/maps/documentation/geocoding/overview. [Accessed 20 April 2022].\n",
    "\n",
    "2.\tA Guide to Coordinate Systems in Great Britain An introduction to mapping coordinate systems and the use of GNSS datasets with Ordnance Survey mapping. (n.d.). [online] Available at: https://www.ordnancesurvey.co.uk/documents/resources/guide-coordinate-systems-great-britain.pdf.\n",
    "\n",
    "3.\tAPI v0.6 - OpenStreetMap Wiki. 2022. API v0.6 - OpenStreetMap Wiki. [ONLINE] Available at: https://wiki.openstreetmap.org/wiki/API_v0.6. [Accessed 20 April 2022].\n",
    "\n",
    "\n",
    "4.\tNatassha Selvaraj. 2022. Geocoding in Python: A Complete Guide. [ONLINE] Available at: https://www.natasshaselvaraj.com/a-step-by-step-guide-on-geocoding-in-python/. [Accessed 20 April 2022].\n",
    "\n",
    "5.\tAbdishakur (2020). How To Handle Map Projections Properly In Python. [online] Medium. Available at: https://towardsdatascience.com/how-to-handle-map-projections-properly-in-python-bcbff78895c4 [Accessed 21 Apr. 2022].\n",
    "\n",
    "\n",
    "6.\tGitHub. 2022. GitHub - rapidsai/cudf: cuDF - GPU DataFrame Library. [ONLINE] Available at: https://github.com/rapidsai/cudf. [Accessed 20 April 2022].\n",
    "\n",
    "7.\tdocs.rapids.ai. (n.d.). cuML API Reference — cuml 22.04.00 documentation. [online] Available at: https://docs.rapids.ai/api/cuml/stable/api.html#dbscan [Accessed 20 Apr. 2022].\n",
    "\n",
    "\n",
    "8.\tkururu002 (2022). kururu002/Fundamentals-of-Accelerated-Data-Science-with-RAPIDS. [online] GitHub. Available at: https://github.com/kururu002/Fundamentals-of-Accelerated-Data-Science-with-RAPIDS [Accessed 21 Apr. 2022].\n",
    "\n",
    "9.\tkururu002 (2022). kururu002/Fundamentals-of-Accelerated-Data-Science-with-RAPIDS. [online] GitHub. Available at: https://github.com/kururu002/Fundamentals-of-Accelerated-Data-Science-with-RAPIDS/blob/main/2-02_population_viz.ipynb [Accessed 20 Apr. 2022].\n",
    "\n",
    "\n",
    "10.\tKim, A.Y., Escobedo-Land, A., 2015. OkCupid Data for Introductory Statistics and Data Science Courses. null 23, null-null. https://doi.org/10.1080/10691898.2015.11889737\n",
    "\n",
    "11.\tShi, Q., Abdel-Aty, M., 2015. Big Data applications in real-time traffic operation and safety monitoring and improvement on urban expressways. Transportation Research Part C: Emerging Technologies, Big Data in Transportation and Traffic Engineering 58, 380–394. https://doi.org/10.1016/j.trc.2015.02.022\n",
    "\n",
    "\n",
    "12.\tGünther, W.A., Rezazade Mehrizi, M.H., Huysman, M., Feldberg, F., 2017. Debating big data: A literature review on realizing value from big data. The Journal of Strategic Information Systems 26, 191–209. https://doi.org/10.1016/j.jsis.2017.07.003\n",
    "\n",
    "13.\tGuo, H., 2017. Big Earth data: A new frontier in Earth and information sciences. Big Earth Data 1, 4–20. https://doi.org/10.1080/20964471.2017.1403062\n",
    "\n",
    "14.\tPham, X., Stack, M., 2018. How data analytics is transforming agriculture. Business Horizons 61, 125–133. https://doi.org/10.1016/j.bushor.2017.09.011\n",
    "\n",
    "15.\tdocs.rapids.ai. (n.d.). Training and Evaluating Machine Learning Models in cuML — cuml 22.02.00 documentation. [online] Available at: https://docs.rapids.ai/api/cuml/legacy/estimator_intro.html [Accessed 21 Apr. 2022].\n",
    "\n",
    "\n",
    "16.\tNVIDIA Developer. (2021). Run NVIDIA Jupyter Notebooks. [online] Available at: https://developer.nvidia.com/run-jupyter-notebooks [Accessed 21 Apr. 2022].\n",
    "\n",
    "17.\tBand, A. (2020). How to find the optimal value of K in KNN? [online] Medium. Available at: https://towardsdatascience.com/how-to-find-the-optimal-value-of-k-in-knn-35d936e554eb.\n",
    "\n",
    "\n",
    "18.\tAcevedo, M.F. (2013). Data analysis and statistics for geography, environmental science, and engineering. Boca Raton: Crc Press.\n",
    "\n",
    "19.\tMaklin, C. (2019). K Nearest Neighbor Algorithm In Python. [online] Medium. Available at: https://towardsdatascience.com/k-nearest-neighbor-python-2fccc47d2a55.\n",
    "\n",
    "\n",
    "20.\tSchubert, E., Sander, J., Ester, M., Kriegel, H.P. and Xu, X., 2017. DBSCAN revisited, revisited: why and how you should (still) use DBSCAN. ACM Transactions on Database Systems (TODS), 42(3), pp.1-21.\n"
   ]
  }
 ],
 "metadata": {
  "kernelspec": {
   "display_name": "Python 3 (ipykernel)",
   "language": "python",
   "name": "python3"
  },
  "language_info": {
   "codemirror_mode": {
    "name": "ipython",
    "version": 3
   },
   "file_extension": ".py",
   "mimetype": "text/x-python",
   "name": "python",
   "nbconvert_exporter": "python",
   "pygments_lexer": "ipython3",
   "version": "3.8.12"
  }
 },
 "nbformat": 4,
 "nbformat_minor": 5
}
