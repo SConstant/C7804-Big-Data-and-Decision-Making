{
  "nbformat": 4,
  "nbformat_minor": 0,
  "metadata": {
    "colab": {
      "name": "Open.ipynb",
      "provenance": [],
      "authorship_tag": "ABX9TyOBhWnTcFVbBaOIRKebFdtl",
      "include_colab_link": true
    },
    "kernelspec": {
      "name": "python3",
      "display_name": "Python 3"
    },
    "language_info": {
      "name": "python"
    }
  },
  "cells": [
    {
      "cell_type": "markdown",
      "metadata": {
        "id": "view-in-github",
        "colab_type": "text"
      },
      "source": [
        "<a href=\"https://colab.research.google.com/github/SConstant/C7804-Big-Data-and-Decision-Making/blob/main/Data_EDA.ipynb\" target=\"_parent\"><img src=\"https://colab.research.google.com/assets/colab-badge.svg\" alt=\"Open In Colab\"/></a>"
      ]
    },
    {
      "cell_type": "code",
      "execution_count": null,
      "metadata": {
        "id": "C3m5nVgP103g"
      },
      "outputs": [],
      "source": [
        "import csv\n",
        "import pandas as pd\n",
        "import requests\n",
        "import urllib.parse"
      ]
    },
    {
      "cell_type": "markdown",
      "source": [
        "# Importing Dataset"
      ],
      "metadata": {
        "id": "SekckbQ3bOiw"
      }
    },
    {
      "cell_type": "code",
      "source": [
        "# Import the dataset from Github\n",
        "# Set URL\n",
        "\n",
        "url = \"https://raw.githubusercontent.com/SConstant/C7804-Big-Data-and-Decision-Making/main/IndianCommodities.csv\"\n",
        "\n"
      ],
      "metadata": {
        "id": "a0Zt8fV3Ujn3"
      },
      "execution_count": null,
      "outputs": []
    },
    {
      "cell_type": "code",
      "source": [
        "# Create a dataframe to run the geocoding\n",
        "\n",
        "df = pd.read_csv(url, encoding=\"ISO-8859-1\")"
      ],
      "metadata": {
        "id": "uaTWR-pSlS6c"
      },
      "execution_count": null,
      "outputs": []
    },
    {
      "cell_type": "code",
      "source": [
        "# Create a dataframe to eventually attache data\n",
        "\n",
        "ndf = pd.read_csv(url, encoding=\"ISO-8859-1\")\n"
      ],
      "metadata": {
        "id": "QVONBDczf9iz"
      },
      "execution_count": null,
      "outputs": []
    },
    {
      "cell_type": "code",
      "source": [
        "# Explore\n",
        "\n",
        "ndf.head"
      ],
      "metadata": {
        "colab": {
          "base_uri": "https://localhost:8080/"
        },
        "id": "FOjxRxG4lJK-",
        "outputId": "0c39dd44-cdf9-473f-b5e8-bb932c98cfd6"
      },
      "execution_count": null,
      "outputs": [
        {
          "output_type": "execute_result",
          "data": {
            "text/plain": [
              "<bound method NDFrame.head of         Unnamed: 0        Date     Market               Category  \\\n",
              "0                1  1994-01-15      Delhi     cereals and tubers   \n",
              "1                2  1994-01-15      Delhi     cereals and tubers   \n",
              "2                3  1994-01-15      Delhi     miscellaneous food   \n",
              "3                4  1994-01-15      Delhi           oil and fats   \n",
              "4                5  1994-01-15  Ahmedabad     cereals and tubers   \n",
              "...            ...         ...        ...                    ...   \n",
              "139529      139530  2021-09-15  Kharagpur        pulses and nuts   \n",
              "139530      139531  2021-09-15  Kharagpur        pulses and nuts   \n",
              "139531      139532  2021-09-15  Kharagpur        pulses and nuts   \n",
              "139532      139533  2021-09-15  Kharagpur  vegetables and fruits   \n",
              "139533      139534  2021-09-15  Kharagpur  vegetables and fruits   \n",
              "\n",
              "              Commodity Unit PriceFlag PriceType Currency  Price  USD_Price  \n",
              "0                  Rice   KG    actual    Retail      INR    8.0     0.2545  \n",
              "1                 Wheat   KG    actual    Retail      INR    5.0     0.1590  \n",
              "2                 Sugar   KG    actual    Retail      INR   13.5     0.4294  \n",
              "3         Oil (mustard)   KG    actual    Retail      INR   31.0     0.9860  \n",
              "4                  Rice   KG    actual    Retail      INR    6.8     0.2163  \n",
              "...                 ...  ...       ...       ...      ...    ...        ...  \n",
              "139529  Lentils (masur)   KG    actual    Retail      INR  110.0     1.4972  \n",
              "139530  Lentils (moong)   KG    actual    Retail      INR  120.0     1.6333  \n",
              "139531   Lentils (urad)   KG    actual    Retail      INR  115.0     1.5653  \n",
              "139532           Onions   KG    actual    Retail      INR   30.0     0.4083  \n",
              "139533         Tomatoes   KG    actual    Retail      INR   40.0     0.5444  \n",
              "\n",
              "[139534 rows x 11 columns]>"
            ]
          },
          "metadata": {},
          "execution_count": 5
        }
      ]
    },
    {
      "cell_type": "code",
      "source": [
        "df = df.copy()"
      ],
      "metadata": {
        "id": "1IQbD9VVUopP"
      },
      "execution_count": null,
      "outputs": []
    },
    {
      "cell_type": "code",
      "source": [
        "# Select Market rows and put in new dataframe object\n",
        "\n",
        "df = df[['Market']]"
      ],
      "metadata": {
        "id": "rQE7FMfEUsVm"
      },
      "execution_count": null,
      "outputs": []
    },
    {
      "cell_type": "code",
      "source": [
        "# Drop duplicates to make computationally less expensive and a bit faster\n",
        "\n",
        "df = df.drop_duplicates()"
      ],
      "metadata": {
        "id": "A1caJK5KfKDz"
      },
      "execution_count": null,
      "outputs": []
    },
    {
      "cell_type": "code",
      "source": [
        "# Explore\n",
        "\n",
        "df.head"
      ],
      "metadata": {
        "colab": {
          "base_uri": "https://localhost:8080/"
        },
        "id": "mftTj4QbUyUe",
        "outputId": "0bf5406b-cac4-42eb-d00d-2d5e2892b3a8"
      },
      "execution_count": null,
      "outputs": [
        {
          "output_type": "execute_result",
          "data": {
            "text/plain": [
              "<bound method NDFrame.head of             Market\n",
              "0            Delhi\n",
              "4        Ahmedabad\n",
              "8           Shimla\n",
              "11       Bengaluru\n",
              "14          Bhopal\n",
              "...            ...\n",
              "136823   Dantewada\n",
              "136970     Selamba\n",
              "137053      Bodeli\n",
              "137326     Dhanbad\n",
              "137389  Jamshedpur\n",
              "\n",
              "[165 rows x 1 columns]>"
            ]
          },
          "metadata": {},
          "execution_count": 9
        }
      ]
    },
    {
      "cell_type": "markdown",
      "source": [
        "# Geocoding dataframe"
      ],
      "metadata": {
        "id": "slIZdOVpbUZA"
      }
    },
    {
      "cell_type": "code",
      "source": [
        "# Open Street map\n",
        "# Test out on one row, and index 0\n",
        "# Put in the API as URL, and parse the Market data alongside calling the json via the url. \n",
        "# Test by printing the Latitude and Longitude\n",
        "\n",
        "url = 'https://nominatim.openstreetmap.org/search/' + urllib.parse.quote(df['Market'][0]) +'?format=json'\n",
        "response = requests.get(url).json()\n",
        "print('Latitude: '+response[0]['lat']+', Longitude: '+response[0]['lon'])"
      ],
      "metadata": {
        "colab": {
          "base_uri": "https://localhost:8080/"
        },
        "id": "dWCcSugGUzQ-",
        "outputId": "30bac394-6715-491f-965f-6d0b734ccb5e"
      },
      "execution_count": null,
      "outputs": [
        {
          "output_type": "stream",
          "name": "stdout",
          "text": [
            "Latitude: 28.6517178, Longitude: 77.2219388\n"
          ]
        }
      ]
    },
    {
      "cell_type": "code",
      "source": [
        "# Apply to the entire dataframe df\n",
        "# As above with additional if/else code where if the Latitude and Longitude are available populate or return a -1 value\n",
        "# Add this data as a new column to df\n",
        "\n",
        "def geocode2(Market):\n",
        "    url = 'https://nominatim.openstreetmap.org/search/' + urllib.parse.quote(Market) +'?format=json'\n",
        "    response = requests.get(url).json()\n",
        "    if(len(response)!=0):\n",
        "        return(response[0]['lat'], response[0]['lon'])\n",
        "    else:\n",
        "        return('-1')\n",
        "\n",
        "df['geocoded'] = df['Market'].apply(geocode2)"
      ],
      "metadata": {
        "id": "Rw7TbFOQU3s-"
      },
      "execution_count": null,
      "outputs": []
    },
    {
      "cell_type": "code",
      "source": [
        "df.head"
      ],
      "metadata": {
        "id": "wlDCnk2RfoCk"
      },
      "execution_count": null,
      "outputs": []
    },
    {
      "cell_type": "markdown",
      "source": [
        "# Merging Geocoded data to orginal dataset"
      ],
      "metadata": {
        "id": "e-J2kwvVbaMa"
      }
    },
    {
      "cell_type": "code",
      "source": [
        "# Merging the Geocoded dataframe, with the original dataframe\n",
        "\n",
        "ndf = pd.merge(ndf, df, how='inner', on='Market')"
      ],
      "metadata": {
        "id": "MCHIDf249LJy"
      },
      "execution_count": null,
      "outputs": []
    },
    {
      "cell_type": "code",
      "source": [
        "# Pretty Pandas display to explore what the data looks like, and to be able to look closely follow the previosu operation \n",
        "\n",
        "with pd.option_context('display.max_rows', 165,\n",
        "                       'display.max_columns', None,\n",
        "                       'display.width', 1000,\n",
        "                       'display.precision', 3,\n",
        "                       'display.colheader_justify', 'center'):\n",
        "  \n",
        "  display(df)"
      ],
      "metadata": {
        "id": "5Q4uWwOz9roS"
      },
      "execution_count": null,
      "outputs": []
    },
    {
      "cell_type": "markdown",
      "source": [
        "# Tidying the dataframe"
      ],
      "metadata": {
        "id": "kyz9eICsbjTa"
      }
    },
    {
      "cell_type": "code",
      "source": [
        "# How many rows are -1\n",
        "\n",
        "ndf_rows = ndf.apply(lambda x : True\n",
        "            if x['geocoded'] == \"-1\" else False, axis = 1)"
      ],
      "metadata": {
        "id": "uGFUohhIYlF9"
      },
      "execution_count": null,
      "outputs": []
    },
    {
      "cell_type": "code",
      "source": [
        "num_rows = len(ndf_rows[ndf_rows == True].index)"
      ],
      "metadata": {
        "id": "yuDC29VYY-3_"
      },
      "execution_count": null,
      "outputs": []
    },
    {
      "cell_type": "code",
      "source": [
        "print('Number of Rows in dataframe in which geocoded is -1 : ',\n",
        "      num_rows )"
      ],
      "metadata": {
        "id": "o4xe7ZeJZPc9"
      },
      "execution_count": null,
      "outputs": []
    },
    {
      "cell_type": "code",
      "source": [
        "ndf.head"
      ],
      "metadata": {
        "id": "rzYi9zltZ4pW"
      },
      "execution_count": null,
      "outputs": []
    },
    {
      "cell_type": "code",
      "source": [
        "# Dropping the -1 values, these are values which open street map couldn't find the lat and long data for\n",
        "\n",
        "ndf[ndf.geocoded != '-1']"
      ],
      "metadata": {
        "id": "LaE6fv9Pc505"
      },
      "execution_count": null,
      "outputs": []
    },
    {
      "cell_type": "code",
      "source": [
        "# Splitting the geocoded row into Lat and long\n",
        "\n",
        "ndf['Lat'] = ndf.geocoded.str.split(',', expand = True)[0]\n",
        "ndf['Long'] = ndf.geocoded.str.split(',', expand = True)[1]"
      ],
      "metadata": {
        "id": "G280mBLhw94A"
      },
      "execution_count": null,
      "outputs": []
    },
    {
      "cell_type": "code",
      "source": [
        "ndf.shape\n"
      ],
      "metadata": {
        "id": "8B_wg2HVbtdi"
      },
      "execution_count": null,
      "outputs": []
    },
    {
      "cell_type": "markdown",
      "source": [
        "# Changing date to integer "
      ],
      "metadata": {
        "id": "0LWUMNJFbx1o"
      }
    },
    {
      "cell_type": "code",
      "source": [
        "# Changing Date to integer \n",
        "\n",
        "ndf[\"Date\"] = p.to_datetime(ndf[\"Date\"])"
      ],
      "metadata": {
        "id": "dl7DcmSBtCM4"
      },
      "execution_count": null,
      "outputs": []
    },
    {
      "cell_type": "markdown",
      "source": [
        "# Saving to CSV"
      ],
      "metadata": {
        "id": "OJHbGr_ccAA_"
      }
    },
    {
      "cell_type": "code",
      "source": [
        "# writing ndf to csv\n",
        "\n",
        "ndf.to_csv('indian_commodities_geo.csv', index=False)"
      ],
      "metadata": {
        "id": "PKz0A3VX0Tsc"
      },
      "execution_count": null,
      "outputs": []
    }
  ]
}